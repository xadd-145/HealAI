{
 "cells": [
  {
   "cell_type": "code",
   "execution_count": 1,
   "metadata": {},
   "outputs": [],
   "source": [
    "import tensorflow\n",
    "import gymnasium as gym\n",
    "import keras\n",
    "import random\n",
    "import numpy as np\n",
    "from gym import Env\n",
    "from Health_Env import *"
   ]
  },
  {
   "cell_type": "code",
   "execution_count": 2,
   "metadata": {},
   "outputs": [
    {
     "name": "stderr",
     "output_type": "stream",
     "text": [
      "c:\\Users\\miche\\RL-Healthcare\\.conda\\Lib\\site-packages\\gym\\spaces\\box.py:127: UserWarning: \u001b[33mWARN: Box bound precision lowered by casting to float64\u001b[0m\n",
      "  logger.warn(f\"Box bound precision lowered by casting to {self.dtype}\")\n"
     ]
    }
   ],
   "source": [
    "env = HealthcareEnv()"
   ]
  },
  {
   "cell_type": "code",
   "execution_count": 7,
   "metadata": {},
   "outputs": [
    {
     "data": {
      "text/plain": [
       "(3,)"
      ]
     },
     "execution_count": 7,
     "metadata": {},
     "output_type": "execute_result"
    }
   ],
   "source": [
    "num_features = env.observation_space.shape\n",
    "num_features"
   ]
  },
  {
   "cell_type": "code",
   "execution_count": 3,
   "metadata": {},
   "outputs": [
    {
     "name": "stdout",
     "output_type": "stream",
     "text": [
      "Episode: 1, Action: 0, Reward: 98, State: (98, 53, 52)\n",
      "Episode: 1, Action: 2, Reward: 100, State: (100, 53, 55)\n",
      "Episode: 1, Action: 2, Reward: 102, State: (102, 53, 58)\n",
      "Episode: 1, Action: 2, Reward: 104, State: (104, 53, 60)\n",
      "Episode: 1, Action: 1, Reward: 103, State: (103, 53, 61)\n",
      "Episode: 1, Action: 2, Reward: -10000, State: (105, 53, 63)\n",
      "Episode: 2, Action: 2, Reward: 107, State: (107, 53, 66)\n",
      "Episode: 2, Action: 0, Reward: 105, State: (105, 56, 68)\n",
      "Episode: 2, Action: 1, Reward: 104, State: (104, 56, 69)\n",
      "Episode: 2, Action: 0, Reward: 102, State: (102, 59, 71)\n",
      "Episode: 2, Action: 1, Reward: 101, State: (101, 59, 72)\n",
      "Episode: 2, Action: 1, Reward: 100, State: (100, 59, 74)\n",
      "Episode: 2, Action: 0, Reward: -13000, State: (98, 62, 75)\n"
     ]
    }
   ],
   "source": [
    "episodes = 2\n",
    "for episode in range(1, episodes +1):\n",
    "    state = env.reset()\n",
    "    done = False\n",
    "    while not done:\n",
    "        action = env.action_space.sample()\n",
    "        state, reward, done, info = env.step(action)\n",
    "        print(f\"Episode: {episode}, Action: {action}, Reward: {reward}, State: {state}\")"
   ]
  }
 ],
 "metadata": {
  "kernelspec": {
   "display_name": "Python 3",
   "language": "python",
   "name": "python3"
  },
  "language_info": {
   "codemirror_mode": {
    "name": "ipython",
    "version": 3
   },
   "file_extension": ".py",
   "mimetype": "text/x-python",
   "name": "python",
   "nbconvert_exporter": "python",
   "pygments_lexer": "ipython3",
   "version": "3.11.9"
  }
 },
 "nbformat": 4,
 "nbformat_minor": 2
}
